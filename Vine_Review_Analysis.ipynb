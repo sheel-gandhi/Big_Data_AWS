{
  "nbformat": 4,
  "nbformat_minor": 0,
  "metadata": {
    "colab": {
      "provenance": [],
      "collapsed_sections": []
    },
    "kernelspec": {
      "name": "python3",
      "display_name": "Python 3"
    },
    "language_info": {
      "name": "python"
    }
  },
  "cells": [
    {
      "cell_type": "code",
      "execution_count": null,
      "metadata": {
        "colab": {
          "base_uri": "https://localhost:8080/"
        },
        "id": "KVsuIG4VfJcy",
        "outputId": "de982fbf-2620-448e-c21f-50529bf1e450"
      },
      "outputs": [
        {
          "output_type": "stream",
          "name": "stdout",
          "text": [
            "\r0% [Working]\r            \rGet:1 https://cloud.r-project.org/bin/linux/ubuntu bionic-cran40/ InRelease [3,626 B]\n",
            "\r0% [Connecting to archive.ubuntu.com] [Waiting for headers] [1 InRelease 0 B/3,\r0% [Connecting to archive.ubuntu.com] [Waiting for headers] [Waiting for header\r                                                                               \rIgn:2 https://developer.download.nvidia.com/compute/machine-learning/repos/ubuntu1804/x86_64  InRelease\n",
            "\r0% [Connecting to archive.ubuntu.com] [Waiting for headers] [Waiting for header\r0% [1 InRelease gpgv 3,626 B] [Connecting to archive.ubuntu.com] [Waiting for h\r                                                                               \rHit:3 https://developer.download.nvidia.com/compute/cuda/repos/ubuntu1804/x86_64  InRelease\n",
            "\r0% [1 InRelease gpgv 3,626 B] [Connecting to archive.ubuntu.com] [Waiting for h\r                                                                               \rGet:4 http://security.ubuntu.com/ubuntu bionic-security InRelease [88.7 kB]\n",
            "Hit:5 https://developer.download.nvidia.com/compute/machine-learning/repos/ubuntu1804/x86_64  Release\n",
            "Hit:6 http://ppa.launchpad.net/c2d4u.team/c2d4u4.0+/ubuntu bionic InRelease\n",
            "Hit:7 http://archive.ubuntu.com/ubuntu bionic InRelease\n",
            "Get:8 http://archive.ubuntu.com/ubuntu bionic-updates InRelease [88.7 kB]\n",
            "Hit:9 http://ppa.launchpad.net/cran/libgit2/ubuntu bionic InRelease\n",
            "Get:11 http://ppa.launchpad.net/deadsnakes/ppa/ubuntu bionic InRelease [15.9 kB]\n",
            "Get:12 http://archive.ubuntu.com/ubuntu bionic-backports InRelease [83.3 kB]\n",
            "Get:13 http://security.ubuntu.com/ubuntu bionic-security/restricted amd64 Packages [1,190 kB]\n",
            "Hit:14 http://ppa.launchpad.net/graphics-drivers/ppa/ubuntu bionic InRelease\n",
            "Get:15 http://security.ubuntu.com/ubuntu bionic-security/main amd64 Packages [3,022 kB]\n",
            "Get:16 http://archive.ubuntu.com/ubuntu bionic-updates/main amd64 Packages [3,454 kB]\n",
            "Get:17 http://ppa.launchpad.net/deadsnakes/ppa/ubuntu bionic/main amd64 Packages [44.0 kB]\n",
            "Get:18 http://archive.ubuntu.com/ubuntu bionic-updates/restricted amd64 Packages [1,232 kB]\n",
            "Fetched 9,222 kB in 4s (2,220 kB/s)\n",
            "Reading package lists... Done\n"
          ]
        }
      ],
      "source": [
        "import os\n",
        "# Find the latest version of spark 3.0 from http://www.apache.org/dist/spark/ and enter as the spark version\n",
        "# For example:\n",
        "# spark_version = 'spark-3.0.3'\n",
        "spark_version = 'spark-3.2.2'\n",
        "os.environ['SPARK_VERSION']=spark_version\n",
        "\n",
        "# Install Spark and Java\n",
        "!apt-get update\n",
        "!apt-get install openjdk-11-jdk-headless -qq > /dev/null\n",
        "!wget -q http://www.apache.org/dist/spark/$SPARK_VERSION/$SPARK_VERSION-bin-hadoop2.7.tgz\n",
        "!tar xf $SPARK_VERSION-bin-hadoop2.7.tgz\n",
        "!pip install -q findspark\n",
        "\n",
        "# Set Environment Variables\n",
        "import os\n",
        "os.environ[\"JAVA_HOME\"] = \"/usr/lib/jvm/java-11-openjdk-amd64\"\n",
        "os.environ[\"SPARK_HOME\"] = f\"/content/{spark_version}-bin-hadoop2.7\"\n",
        "\n",
        "# Start a SparkSession\n",
        "import findspark\n",
        "findspark.init()"
      ]
    },
    {
      "cell_type": "code",
      "source": [
        "# Download the Postgres driver that will allow Spark to interact with Postgres.\n",
        "!wget https://jdbc.postgresql.org/download/postgresql-42.2.16.jar"
      ],
      "metadata": {
        "colab": {
          "base_uri": "https://localhost:8080/"
        },
        "id": "NAEtEJdYfXQW",
        "outputId": "67e45d5f-35c1-4439-b462-5c0f38205b80"
      },
      "execution_count": null,
      "outputs": [
        {
          "output_type": "stream",
          "name": "stdout",
          "text": [
            "--2022-10-17 22:59:55--  https://jdbc.postgresql.org/download/postgresql-42.2.16.jar\n",
            "Resolving jdbc.postgresql.org (jdbc.postgresql.org)... 72.32.157.228, 2001:4800:3e1:1::228\n",
            "Connecting to jdbc.postgresql.org (jdbc.postgresql.org)|72.32.157.228|:443... connected.\n",
            "HTTP request sent, awaiting response... 200 OK\n",
            "Length: 1002883 (979K) [application/java-archive]\n",
            "Saving to: ‘postgresql-42.2.16.jar’\n",
            "\n",
            "postgresql-42.2.16. 100%[===================>] 979.38K  4.83MB/s    in 0.2s    \n",
            "\n",
            "2022-10-17 22:59:56 (4.83 MB/s) - ‘postgresql-42.2.16.jar’ saved [1002883/1002883]\n",
            "\n"
          ]
        }
      ]
    },
    {
      "cell_type": "code",
      "source": [
        "from pyspark.sql import SparkSession\n",
        "spark = SparkSession.builder.appName(\"M16-Amazon-Challenge\").config(\"spark.driver.extraClassPath\",\"/content/postgresql-42.2.16.jar\").getOrCreate()"
      ],
      "metadata": {
        "id": "gecvr_wVfXN3"
      },
      "execution_count": null,
      "outputs": []
    },
    {
      "cell_type": "code",
      "source": [
        "from pyspark import SparkFiles\n",
        "url = \"https://s3.amazonaws.com/amazon-reviews-pds/tsv/amazon_reviews_us_Toys_v1_00.tsv.gz\"\n",
        "spark.sparkContext.addFile(url)\n",
        "df = spark.read.option(\"encoding\", \"UTF-8\").csv(SparkFiles.get(\"amazon_reviews_us_Toys_v1_00.tsv.gz\"), sep=\"\\t\", header=True, inferSchema=True)\n",
        "df.show()"
      ],
      "metadata": {
        "colab": {
          "base_uri": "https://localhost:8080/"
        },
        "id": "jxjY3DaffXLM",
        "outputId": "b4d81b91-46ec-4efc-e244-f19986019ab3"
      },
      "execution_count": null,
      "outputs": [
        {
          "output_type": "stream",
          "name": "stdout",
          "text": [
            "+-----------+-----------+--------------+----------+--------------+--------------------+----------------+-----------+-------------+-----------+----+-----------------+--------------------+--------------------+-----------+\n",
            "|marketplace|customer_id|     review_id|product_id|product_parent|       product_title|product_category|star_rating|helpful_votes|total_votes|vine|verified_purchase|     review_headline|         review_body|review_date|\n",
            "+-----------+-----------+--------------+----------+--------------+--------------------+----------------+-----------+-------------+-----------+----+-----------------+--------------------+--------------------+-----------+\n",
            "|         US|   18778586| RDIJS7QYB6XNR|B00EDBY7X8|     122952789|Monopoly Junior B...|            Toys|          5|            0|          0|   N|                Y|          Five Stars|        Excellent!!!| 2015-08-31|\n",
            "|         US|   24769659|R36ED1U38IELG8|B00D7JFOPC|     952062646|56 Pieces of Wood...|            Toys|          5|            0|          0|   N|                Y|Good quality trac...|Great quality woo...| 2015-08-31|\n",
            "|         US|   44331596| R1UE3RPRGCOLD|B002LHA74O|     818126353|Super Jumbo Playi...|            Toys|          2|            1|          1|   N|                Y|           Two Stars|Cards are not as ...| 2015-08-31|\n",
            "|         US|   23310293|R298788GS6I901|B00ARPLCGY|     261944918|Barbie Doll and F...|            Toys|          5|            0|          0|   N|                Y|my daughter loved...|my daughter loved...| 2015-08-31|\n",
            "|         US|   38745832|  RNX4EXOBBPN5|B00UZOPOFW|     717410439|Emazing Lights eL...|            Toys|          1|            1|          1|   N|                Y|     DONT BUY THESE!|Do not buy these!...| 2015-08-31|\n",
            "|         US|   13394189|R3BPETL222LMIM|B009B7F6CA|     873028700|Melissa & Doug Wa...|            Toys|          5|            0|          0|   N|                Y|          Five Stars|Great item. Pictu...| 2015-08-31|\n",
            "|         US|    2749569|R3SORMPJZO3F2J|B0101EHRSM|     723424342|Big Bang Cosmic P...|            Toys|          3|            2|          2|   N|                Y|         Three Stars|To keep together,...| 2015-08-31|\n",
            "|         US|   41137196|R2RDOJQ0WBZCF6|B00407S11Y|     383363775|Fun Express Insec...|            Toys|          5|            0|          0|   N|                Y|          Five Stars|I was pleased wit...| 2015-08-31|\n",
            "|         US|     433677|R2B8VBEPB4YEZ7|B00FGPU7U2|     780517568|Fisher-Price Octo...|            Toys|          5|            0|          0|   N|                Y|          Five Stars|    Children like it| 2015-08-31|\n",
            "|         US|    1297934|R1CB783I7B0U52|B0013OY0S0|     269360126|Claw Climber Goli...|            Toys|          1|            0|          1|   N|                Y|Shame on the sell...|Showed up not how...| 2015-08-31|\n",
            "|         US|   52006292| R2D90RQQ3V8LH|B00519PJTW|     493486387|100 Foot Multicol...|            Toys|          5|            0|          0|   N|                Y|          Five Stars|Really liked thes...| 2015-08-31|\n",
            "|         US|   32071052|R1Y4ZOUGFMJ327|B001TCY2DO|     459122467|Pig Jumbo Foil Ba...|            Toys|          5|            0|          0|   N|                Y|   Nice huge balloon|Nice huge balloon...| 2015-08-31|\n",
            "|         US|    7360347|R2BUV9QJI2A00X|B00DOQCWF8|     226984155|Minecraft Animal ...|            Toys|          5|            0|          1|   N|                Y|          Five Stars|          Great deal| 2015-08-31|\n",
            "|         US|   11613707| RSUHRJFJIRB3Z|B004C04I4I|     375659886|Disney Baby: Eeyo...|            Toys|          4|            0|          0|   N|                Y|          Four Stars|       As Advertised| 2015-08-31|\n",
            "|         US|   13545982|R1T96CG98BBA15|B00NWGEKBY|     933734136|Team Losi 8IGHT-E...|            Toys|          3|            2|          4|   N|                Y|... servo so expe...|Comes w a 15$ ser...| 2015-08-31|\n",
            "|         US|   43880421| R2ATXF4QQ30YW|B00000JS5S|     341842639|Hot Wheels 48- Ca...|            Toys|          5|            0|          0|   N|                Y|          Five Stars|   awesome ! Thanks!| 2015-08-31|\n",
            "|         US|    1662075|R1YS3DS218NNMD|B00XPWXYDK|     210135375|ZuZo 2.4GHz 4 CH ...|            Toys|          5|            4|          4|   N|                N|The closest relev...|I got this item f...| 2015-08-31|\n",
            "|         US|   18461411|R2SDXLTLF92O0H|B00VPXX92W|     705054378|Teenage Mutant Ni...|            Toys|          5|            0|          0|   N|                Y|          Five Stars|It was a birthday...| 2015-08-31|\n",
            "|         US|   27225859| R4R337CCDWLNG|B00YRA3H4U|     223420727|Franklin Sports M...|            Toys|          3|            0|          1|   Y|                N|Got wrong product...|Got a wrong produ...| 2015-08-31|\n",
            "|         US|   20494593|R32Z6UA4S5Q630|B009T8BSQY|     787701676|Alien Frontiers: ...|            Toys|          1|            0|          0|   N|                Y|         Overpriced.|You need expansio...| 2015-08-31|\n",
            "+-----------+-----------+--------------+----------+--------------+--------------------+----------------+-----------+-------------+-----------+----+-----------------+--------------------+--------------------+-----------+\n",
            "only showing top 20 rows\n",
            "\n"
          ]
        }
      ]
    },
    {
      "cell_type": "code",
      "source": [
        "df.count()"
      ],
      "metadata": {
        "colab": {
          "base_uri": "https://localhost:8080/"
        },
        "id": "I3ieUkelfXH1",
        "outputId": "592a86c4-6367-4ce7-a0a0-5903c5abd20a"
      },
      "execution_count": null,
      "outputs": [
        {
          "output_type": "execute_result",
          "data": {
            "text/plain": [
              "4864249"
            ]
          },
          "metadata": {},
          "execution_count": 5
        }
      ]
    },
    {
      "cell_type": "code",
      "source": [
        "from pyspark.sql.functions import to_date, count\n"
      ],
      "metadata": {
        "id": "DkiJ1Th_fXD7"
      },
      "execution_count": null,
      "outputs": []
    },
    {
      "cell_type": "code",
      "source": [
        "# Create the vine_table. DataFrame\n",
        "vine_df = df.select([\"review_id\", \"star_rating\", \"helpful_votes\", \"total_votes\", \"vine\", \"verified_purchase\"])\n",
        "vine_df.show()"
      ],
      "metadata": {
        "colab": {
          "base_uri": "https://localhost:8080/"
        },
        "id": "BoZ1pHLVfXBK",
        "outputId": "908d2e7e-cd5a-46d4-9941-8cf606ededcc"
      },
      "execution_count": null,
      "outputs": [
        {
          "output_type": "stream",
          "name": "stdout",
          "text": [
            "+--------------+-----------+-------------+-----------+----+-----------------+\n",
            "|     review_id|star_rating|helpful_votes|total_votes|vine|verified_purchase|\n",
            "+--------------+-----------+-------------+-----------+----+-----------------+\n",
            "| RDIJS7QYB6XNR|          5|            0|          0|   N|                Y|\n",
            "|R36ED1U38IELG8|          5|            0|          0|   N|                Y|\n",
            "| R1UE3RPRGCOLD|          2|            1|          1|   N|                Y|\n",
            "|R298788GS6I901|          5|            0|          0|   N|                Y|\n",
            "|  RNX4EXOBBPN5|          1|            1|          1|   N|                Y|\n",
            "|R3BPETL222LMIM|          5|            0|          0|   N|                Y|\n",
            "|R3SORMPJZO3F2J|          3|            2|          2|   N|                Y|\n",
            "|R2RDOJQ0WBZCF6|          5|            0|          0|   N|                Y|\n",
            "|R2B8VBEPB4YEZ7|          5|            0|          0|   N|                Y|\n",
            "|R1CB783I7B0U52|          1|            0|          1|   N|                Y|\n",
            "| R2D90RQQ3V8LH|          5|            0|          0|   N|                Y|\n",
            "|R1Y4ZOUGFMJ327|          5|            0|          0|   N|                Y|\n",
            "|R2BUV9QJI2A00X|          5|            0|          1|   N|                Y|\n",
            "| RSUHRJFJIRB3Z|          4|            0|          0|   N|                Y|\n",
            "|R1T96CG98BBA15|          3|            2|          4|   N|                Y|\n",
            "| R2ATXF4QQ30YW|          5|            0|          0|   N|                Y|\n",
            "|R1YS3DS218NNMD|          5|            4|          4|   N|                N|\n",
            "|R2SDXLTLF92O0H|          5|            0|          0|   N|                Y|\n",
            "| R4R337CCDWLNG|          3|            0|          1|   Y|                N|\n",
            "|R32Z6UA4S5Q630|          1|            0|          0|   N|                Y|\n",
            "+--------------+-----------+-------------+-----------+----+-----------------+\n",
            "only showing top 20 rows\n",
            "\n"
          ]
        }
      ]
    },
    {
      "cell_type": "code",
      "source": [
        "vine_df.count()"
      ],
      "metadata": {
        "colab": {
          "base_uri": "https://localhost:8080/"
        },
        "id": "Fi7iMQc8fW9J",
        "outputId": "f22c0f54-f161-48c5-fbb5-01ffdd6a8d63"
      },
      "execution_count": null,
      "outputs": [
        {
          "output_type": "execute_result",
          "data": {
            "text/plain": [
              "4864249"
            ]
          },
          "metadata": {},
          "execution_count": 8
        }
      ]
    },
    {
      "cell_type": "code",
      "source": [
        "from pyspark.sql.functions import col"
      ],
      "metadata": {
        "id": "Titi1riek7N_"
      },
      "execution_count": null,
      "outputs": []
    },
    {
      "cell_type": "code",
      "source": [
        "total_votes_df = vine_df.filter(col(\"total_votes\")>=20)\n",
        "total_votes_df.show()"
      ],
      "metadata": {
        "colab": {
          "base_uri": "https://localhost:8080/"
        },
        "id": "TMcioHVzfyD7",
        "outputId": "fe382564-7ec4-4353-d36c-426cbeaf39f2"
      },
      "execution_count": null,
      "outputs": [
        {
          "output_type": "stream",
          "name": "stdout",
          "text": [
            "+--------------+-----------+-------------+-----------+----+-----------------+\n",
            "|     review_id|star_rating|helpful_votes|total_votes|vine|verified_purchase|\n",
            "+--------------+-----------+-------------+-----------+----+-----------------+\n",
            "| ROP6ITXO8K5V2|          5|           23|         27|   N|                Y|\n",
            "|R3ND1LVU7AXCVF|          1|           21|         21|   N|                Y|\n",
            "| R9I5FOLKU99RY|          5|           19|         20|   Y|                N|\n",
            "|R1QS8AOD6HX3ED|          4|           59|         81|   N|                N|\n",
            "|R3ED60RC69CCQ6|          5|           22|         23|   Y|                N|\n",
            "|R2MDI1TP46VSYD|          3|            9|         21|   N|                Y|\n",
            "|R2JM687C525WR9|          3|           33|         33|   Y|                N|\n",
            "|R2LWX4TZ67FWPT|          4|           50|         50|   N|                N|\n",
            "|R29IYHPYD14AGI|          3|           84|         84|   N|                Y|\n",
            "|R1F2I723WRK5QV|          5|           20|         20|   N|                Y|\n",
            "| RRO8C1IVZMD6H|          5|           22|         22|   N|                N|\n",
            "|R2GHOWIWDVLN18|          1|           28|         36|   N|                Y|\n",
            "|R30PJ9XUHFTY5D|          5|           42|         43|   N|                N|\n",
            "| RK12D8DTG4G82|          5|            5|         22|   N|                N|\n",
            "|R2F7D9N3SSQC20|          4|           32|         34|   N|                N|\n",
            "| RN4VK9FV66YPS|          5|           29|         33|   N|                N|\n",
            "|R18T8SFBDXAKSY|          5|           95|         95|   N|                Y|\n",
            "|R36SKVJXZ0I98A|          5|          124|        127|   N|                N|\n",
            "| RJDIWMOZT0EGZ|          1|           11|         27|   N|                N|\n",
            "|R3PAIHQSO707G4|          5|          189|        221|   N|                N|\n",
            "+--------------+-----------+-------------+-----------+----+-----------------+\n",
            "only showing top 20 rows\n",
            "\n"
          ]
        }
      ]
    },
    {
      "cell_type": "code",
      "source": [
        "helpful_votes_filter_df = total_votes_df.filter((col(\"helpful_votes\")/col(\"total_votes\")*100) >= 50)\n",
        "helpful_votes_filter_df.show()"
      ],
      "metadata": {
        "colab": {
          "base_uri": "https://localhost:8080/"
        },
        "id": "BeFUKiCvfyBN",
        "outputId": "f7f4ed6f-95de-477d-ec0f-ee360eee3404"
      },
      "execution_count": null,
      "outputs": [
        {
          "output_type": "stream",
          "name": "stdout",
          "text": [
            "+--------------+-----------+-------------+-----------+----+-----------------+\n",
            "|     review_id|star_rating|helpful_votes|total_votes|vine|verified_purchase|\n",
            "+--------------+-----------+-------------+-----------+----+-----------------+\n",
            "| ROP6ITXO8K5V2|          5|           23|         27|   N|                Y|\n",
            "|R3ND1LVU7AXCVF|          1|           21|         21|   N|                Y|\n",
            "| R9I5FOLKU99RY|          5|           19|         20|   Y|                N|\n",
            "|R1QS8AOD6HX3ED|          4|           59|         81|   N|                N|\n",
            "|R3ED60RC69CCQ6|          5|           22|         23|   Y|                N|\n",
            "|R2JM687C525WR9|          3|           33|         33|   Y|                N|\n",
            "|R2LWX4TZ67FWPT|          4|           50|         50|   N|                N|\n",
            "|R29IYHPYD14AGI|          3|           84|         84|   N|                Y|\n",
            "|R1F2I723WRK5QV|          5|           20|         20|   N|                Y|\n",
            "| RRO8C1IVZMD6H|          5|           22|         22|   N|                N|\n",
            "|R2GHOWIWDVLN18|          1|           28|         36|   N|                Y|\n",
            "|R30PJ9XUHFTY5D|          5|           42|         43|   N|                N|\n",
            "|R2F7D9N3SSQC20|          4|           32|         34|   N|                N|\n",
            "| RN4VK9FV66YPS|          5|           29|         33|   N|                N|\n",
            "|R18T8SFBDXAKSY|          5|           95|         95|   N|                Y|\n",
            "|R36SKVJXZ0I98A|          5|          124|        127|   N|                N|\n",
            "|R3PAIHQSO707G4|          5|          189|        221|   N|                N|\n",
            "|R2TETIV0IVWFSJ|          4|           80|         82|   N|                Y|\n",
            "|R1VBVD23GPZW0E|          5|           55|         58|   N|                Y|\n",
            "|R1AJKXVHURPVCZ|          3|           12|         22|   N|                Y|\n",
            "+--------------+-----------+-------------+-----------+----+-----------------+\n",
            "only showing top 20 rows\n",
            "\n"
          ]
        }
      ]
    },
    {
      "cell_type": "code",
      "source": [
        "vine_paid_reviews_df = helpful_votes_filter_df.filter(col(\"vine\") == \"Y\")\n",
        "vine_paid_reviews_df.show()"
      ],
      "metadata": {
        "colab": {
          "base_uri": "https://localhost:8080/"
        },
        "id": "Ifc4fBwYfx9u",
        "outputId": "9c5e4919-6903-4dba-df7d-6c52a4c4a38a"
      },
      "execution_count": null,
      "outputs": [
        {
          "output_type": "stream",
          "name": "stdout",
          "text": [
            "+--------------+-----------+-------------+-----------+----+-----------------+\n",
            "|     review_id|star_rating|helpful_votes|total_votes|vine|verified_purchase|\n",
            "+--------------+-----------+-------------+-----------+----+-----------------+\n",
            "| R9I5FOLKU99RY|          5|           19|         20|   Y|                N|\n",
            "|R3ED60RC69CCQ6|          5|           22|         23|   Y|                N|\n",
            "|R2JM687C525WR9|          3|           33|         33|   Y|                N|\n",
            "| RUB4AUWGHG16G|          4|           25|         27|   Y|                N|\n",
            "|R1S3IDYJUA6V2G|          5|           28|         32|   Y|                N|\n",
            "| RZFLN8FD5Y2M6|          4|           25|         28|   Y|                N|\n",
            "|R1V8NDXD9SETO5|          3|          320|        352|   Y|                N|\n",
            "|R2H4VEFWHP50M3|          5|           26|         36|   Y|                N|\n",
            "|R3DP6Y0A8WXUOV|          5|           21|         21|   Y|                N|\n",
            "| R49L85GZIKH4D|          3|           33|         36|   Y|                N|\n",
            "| R2RQKWRUS11DZ|          5|           18|         20|   Y|                N|\n",
            "| RZL7TPXLJPR2Z|          4|           19|         20|   Y|                N|\n",
            "|R34JSTH01HK1J8|          4|           75|         80|   Y|                N|\n",
            "|R1OI8PAJW4MWUY|          5|           20|         20|   Y|                N|\n",
            "|R1RXSJILN39UY1|          5|           48|         53|   Y|                N|\n",
            "| R79XS8S5EYX59|          3|           20|         22|   Y|                N|\n",
            "|R24STRS5M3QEXQ|          5|           60|         65|   Y|                N|\n",
            "|R15HJU8XNX1XG1|          4|           25|         26|   Y|                N|\n",
            "|R1NMYF3BJM72A0|          4|           57|         60|   Y|                N|\n",
            "| R8XSDH6E6YWMX|          4|           22|         24|   Y|                N|\n",
            "+--------------+-----------+-------------+-----------+----+-----------------+\n",
            "only showing top 20 rows\n",
            "\n"
          ]
        }
      ]
    },
    {
      "cell_type": "code",
      "source": [
        "vine_unpaid_reviews_df = helpful_votes_filter_df.filter(col(\"vine\") == \"N\")\n",
        "vine_unpaid_reviews_df.show()"
      ],
      "metadata": {
        "colab": {
          "base_uri": "https://localhost:8080/"
        },
        "id": "FiAiMxKvfx7G",
        "outputId": "1796e1a8-fc99-44c4-88b5-824ab05af187"
      },
      "execution_count": null,
      "outputs": [
        {
          "output_type": "stream",
          "name": "stdout",
          "text": [
            "+--------------+-----------+-------------+-----------+----+-----------------+\n",
            "|     review_id|star_rating|helpful_votes|total_votes|vine|verified_purchase|\n",
            "+--------------+-----------+-------------+-----------+----+-----------------+\n",
            "| ROP6ITXO8K5V2|          5|           23|         27|   N|                Y|\n",
            "|R3ND1LVU7AXCVF|          1|           21|         21|   N|                Y|\n",
            "|R1QS8AOD6HX3ED|          4|           59|         81|   N|                N|\n",
            "|R2LWX4TZ67FWPT|          4|           50|         50|   N|                N|\n",
            "|R29IYHPYD14AGI|          3|           84|         84|   N|                Y|\n",
            "|R1F2I723WRK5QV|          5|           20|         20|   N|                Y|\n",
            "| RRO8C1IVZMD6H|          5|           22|         22|   N|                N|\n",
            "|R2GHOWIWDVLN18|          1|           28|         36|   N|                Y|\n",
            "|R30PJ9XUHFTY5D|          5|           42|         43|   N|                N|\n",
            "|R2F7D9N3SSQC20|          4|           32|         34|   N|                N|\n",
            "| RN4VK9FV66YPS|          5|           29|         33|   N|                N|\n",
            "|R18T8SFBDXAKSY|          5|           95|         95|   N|                Y|\n",
            "|R36SKVJXZ0I98A|          5|          124|        127|   N|                N|\n",
            "|R3PAIHQSO707G4|          5|          189|        221|   N|                N|\n",
            "|R2TETIV0IVWFSJ|          4|           80|         82|   N|                Y|\n",
            "|R1VBVD23GPZW0E|          5|           55|         58|   N|                Y|\n",
            "|R1AJKXVHURPVCZ|          3|           12|         22|   N|                Y|\n",
            "|R2QDNZYVEX9X14|          2|           18|         20|   N|                N|\n",
            "|R32RD311POLW7G|          3|           25|         27|   N|                Y|\n",
            "|R1VXO073B9HOGC|          4|           29|         30|   N|                Y|\n",
            "+--------------+-----------+-------------+-----------+----+-----------------+\n",
            "only showing top 20 rows\n",
            "\n"
          ]
        }
      ]
    },
    {
      "cell_type": "code",
      "source": [
        "vine_paid_reviews_df.count()"
      ],
      "metadata": {
        "colab": {
          "base_uri": "https://localhost:8080/"
        },
        "id": "GwMVUlQVfx4q",
        "outputId": "93174d19-0c49-4c31-bad7-4b29c969bf40"
      },
      "execution_count": null,
      "outputs": [
        {
          "output_type": "execute_result",
          "data": {
            "text/plain": [
              "1266"
            ]
          },
          "metadata": {},
          "execution_count": 14
        }
      ]
    },
    {
      "cell_type": "code",
      "source": [
        "vine_unpaid_reviews_df.count()"
      ],
      "metadata": {
        "colab": {
          "base_uri": "https://localhost:8080/"
        },
        "id": "70u4e0mRqUzR",
        "outputId": "5f7bff7d-ed96-4a09-edb4-1c1a159e3c4b"
      },
      "execution_count": null,
      "outputs": [
        {
          "output_type": "execute_result",
          "data": {
            "text/plain": [
              "62028"
            ]
          },
          "metadata": {},
          "execution_count": 15
        }
      ]
    },
    {
      "cell_type": "code",
      "source": [
        "paid_rating_5star_df = vine_paid_reviews_df.filter(col(\"star_rating\") == 5)\n",
        "paid_rating_5star_df.count()"
      ],
      "metadata": {
        "colab": {
          "base_uri": "https://localhost:8080/"
        },
        "id": "mTH43-zvqUwW",
        "outputId": "71d0610f-0740-447e-a53c-2b72effa8ec7"
      },
      "execution_count": null,
      "outputs": [
        {
          "output_type": "execute_result",
          "data": {
            "text/plain": [
              "432"
            ]
          },
          "metadata": {},
          "execution_count": 16
        }
      ]
    },
    {
      "cell_type": "code",
      "source": [
        "unpaid_rating_5star_df = vine_unpaid_reviews_df.filter(col(\"star_rating\") == 5)\n",
        "unpaid_rating_5star_df.count()"
      ],
      "metadata": {
        "colab": {
          "base_uri": "https://localhost:8080/"
        },
        "id": "WvXL4wEEqUt0",
        "outputId": "b6be8184-6c20-462d-fa9e-ca12f4a7dd15"
      },
      "execution_count": null,
      "outputs": [
        {
          "output_type": "execute_result",
          "data": {
            "text/plain": [
              "29982"
            ]
          },
          "metadata": {},
          "execution_count": 17
        }
      ]
    },
    {
      "cell_type": "code",
      "source": [
        "percentage_paid_5star = ((paid_rating_5star_df.count()/ vine_paid_reviews_df.count())*100)\n",
        "print(\"Percentage of 5-star reviews for paid Vine program was: %f\" % percentage_paid_5star + \"%\")"
      ],
      "metadata": {
        "colab": {
          "base_uri": "https://localhost:8080/"
        },
        "id": "-GH1c8Nrq8l_",
        "outputId": "811888a5-3b2d-4b7b-b883-fd292198bb6e"
      },
      "execution_count": null,
      "outputs": [
        {
          "output_type": "stream",
          "name": "stdout",
          "text": [
            "Percentage of 5-star reviews for paid Vine program was: 34.123223%\n"
          ]
        }
      ]
    },
    {
      "cell_type": "code",
      "source": [
        "percentage_unpaid_5star = ((unpaid_rating_5star_df.count()/ vine_unpaid_reviews_df.count())*100)\n",
        "print(\"Percentage of 5-star reviews for unpaid Vine program was: %f\" % percentage_unpaid_5star + \"%\")"
      ],
      "metadata": {
        "colab": {
          "base_uri": "https://localhost:8080/"
        },
        "id": "9TNEFWl7L3_U",
        "outputId": "e3975c9c-4558-49fb-f911-f9bdfa459516"
      },
      "execution_count": null,
      "outputs": [
        {
          "output_type": "stream",
          "name": "stdout",
          "text": [
            "Percentage of 5-star reviews for unpaid Vine program was: 48.336235%\n"
          ]
        }
      ]
    }
  ]
}